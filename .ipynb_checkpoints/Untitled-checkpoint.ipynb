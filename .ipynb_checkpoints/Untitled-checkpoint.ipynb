{
 "cells": [
  {
   "cell_type": "code",
   "execution_count": 7,
   "metadata": {
    "collapsed": true
   },
   "outputs": [],
   "source": [
    "# http://boston.craigslist.org/jsonsearch/aap/\n",
    "# http://boston.craigslist.org/jsonsearch/aap/?geocluster=113028394422&key=5rkNptnXV1ev6ijkzFoqHA\n",
    "import requests\n",
    "r = requests.get('http://boston.craigslist.org/jsonsearch/aap/')"
   ]
  },
  {
   "cell_type": "code",
   "execution_count": 13,
   "metadata": {
    "collapsed": false
   },
   "outputs": [],
   "source": [
    "import pandas as pd\n",
    "from pandas.io.json import json_normalize\n",
    "\n",
    "response = pd.DataFrame(r.json()[0])"
   ]
  },
  {
   "cell_type": "code",
   "execution_count": 14,
   "metadata": {
    "collapsed": false
   },
   "outputs": [],
   "source": [
    "import psycopg2\n",
    "\n",
    "conn=psycopg2.connect(\"dbname=craigslistscrape user=Matt\")\n",
    "cur = conn.cursor()"
   ]
  },
  {
   "cell_type": "code",
   "execution_count": 27,
   "metadata": {
    "collapsed": false
   },
   "outputs": [],
   "source": [
    "from peewee import *\n",
    "from playhouse.postgres_ext import PostgresqlExtDatabase\n",
    "import datetime\n",
    "\n",
    "psql_db = PostgresqlExtDatabase ('craigslistscrape', user='Matt', autorollback=True)\n",
    "psql_db.register_fields({'point': 'geometry(Point,4326)'})\n",
    "\n",
    "class PointField(Field):\n",
    "    db_field = 'geometry(Point,4326)'\n",
    "\n",
    "class BaseModel(Model):\n",
    "    \"\"\"A base model that will use our Postgresql database\"\"\"\n",
    "    class Meta:\n",
    "        database = psql_db\n",
    "\n",
    "class Listing(BaseModel):\n",
    "    ask = IntegerField()\n",
    "    bedrooms = IntegerField()\n",
    "    location = PointField()\n",
    "    title = CharField()\n",
    "    date = DateTimeField()\n",
    "    \n",
    "def pft(v):\n",
    "    return fn.St_GeomFromText(v, 4326)"
   ]
  },
  {
   "cell_type": "code",
   "execution_count": 28,
   "metadata": {
    "collapsed": false
   },
   "outputs": [],
   "source": [
    "psql_db.connect()"
   ]
  },
  {
   "cell_type": "code",
   "execution_count": 29,
   "metadata": {
    "collapsed": false
   },
   "outputs": [],
   "source": [
    "# listing = Listing(username=\"Matt\", ask = 1234, bedrooms=3, location=\"42.5,-71.2\", title=\"Listing Title\", date=datetime.datetime.fromtimestamp(1445976900))\n",
    "# listing.save()\n",
    "\n",
    "# Load the database with the first hierarchy\n",
    "\n",
    "for i in r.json()[0]:\n",
    "    if \"GeoCluster\" not in i:\n",
    "        location = \"POINT(\" + str(i[\"Latitude\"]) + \" \" + str(i[\"Longitude\"]) + \")\"\n",
    "        listing = Listing.create(ask = i[\"Ask\"], \n",
    "                       bedrooms=i[\"Bedrooms\"], \n",
    "                       location=pft(location), \n",
    "                       title=i[\"PostingTitle\"], \n",
    "                       date=datetime.datetime.fromtimestamp(int(i[\"PostedDate\"])))\n",
    "        try:\n",
    "            listing.save()\n",
    "        except:\n",
    "            psql_db.rollback()\n",
    "            break"
   ]
  },
  {
   "cell_type": "code",
   "execution_count": null,
   "metadata": {
    "collapsed": true
   },
   "outputs": [],
   "source": []
  }
 ],
 "metadata": {
  "kernelspec": {
   "display_name": "Python 3",
   "language": "python",
   "name": "python3"
  },
  "language_info": {
   "codemirror_mode": {
    "name": "ipython",
    "version": 3
   },
   "file_extension": ".py",
   "mimetype": "text/x-python",
   "name": "python",
   "nbconvert_exporter": "python",
   "pygments_lexer": "ipython3",
   "version": "3.4.3"
  }
 },
 "nbformat": 4,
 "nbformat_minor": 0
}
