{
 "cells": [
  {
   "cell_type": "code",
   "execution_count": 40,
   "metadata": {
    "collapsed": false
   },
   "outputs": [],
   "source": [
    "library(\"RPostgreSQL\")\n",
    "library('rgeos')\n",
    "library('sp')\n",
    "\n",
    "drv <- dbDriver(\"PostgreSQL\")\n",
    "con <- dbConnect(drv, dbname=\"apps\", host=\"db.dev.mapc.org\", port=\"5432\", user=\"editor\", password=\"M999PCedit.451\")\n",
    "\n",
    "#lookup table\n",
    "lookup = dbGetQuery(con,\"select b25003001, vacancy_ra, renter_sha, listings from listings_weighted WHERE listings > 0\")\n",
    "\n",
    "# fit <- lm(y ~ x1 + x2 + x3, data=filtered)\n",
    "# summary(fit) # show results\n",
    "\n",
    "get_bigrams <- function(str)\n",
    "{\n",
    "  lstr = tolower(str)\n",
    "  bigramlst = list()\n",
    "  for(i in 1:(nchar(str)-1))\n",
    "  {\n",
    "    bigramlst[[i]] = substr(str, i, i+1)\n",
    "  }\n",
    "  return(bigramlst)\n",
    "}\n",
    "\n",
    "str_similarity <- function(str1, str2)\n",
    "{\n",
    "   pairs1 = get_bigrams(str1)\n",
    "   pairs2 = get_bigrams(str2)\n",
    "   unionlen  = length(pairs1) + length(pairs2)\n",
    "   hit_count = 0\n",
    "   for(x in 1:length(pairs1)){\n",
    "        for(y in 1:length(pairs2)){\n",
    "            if (pairs1[[x]] == pairs2[[y]])\n",
    "                hit_count = hit_count + 1\n",
    "        }\n",
    "   }\n",
    "   return ((2.0 * hit_count) / unionlen)\n",
    "}"
   ]
  },
  {
   "cell_type": "code",
   "execution_count": 39,
   "metadata": {
    "collapsed": false
   },
   "outputs": [
    {
     "data": {
      "text/plain": [
       "\n",
       "Call:\n",
       "lm(formula = listings ~ vacancy_ra + renter_sha, data = filtered)\n",
       "\n",
       "Residuals:\n",
       "    Min      1Q  Median      3Q     Max \n",
       "-107.94  -35.44  -10.67    7.69  476.64 \n",
       "\n",
       "Coefficients:\n",
       "            Estimate Std. Error t value Pr(>|t|)    \n",
       "(Intercept)  -16.389      5.329  -3.075  0.00218 ** \n",
       "vacancy_ra    83.074    124.336   0.668  0.50425    \n",
       "renter_sha   118.629     11.810  10.045  < 2e-16 ***\n",
       "---\n",
       "Signif. codes:  0 ‘***’ 0.001 ‘**’ 0.01 ‘*’ 0.05 ‘.’ 0.1 ‘ ’ 1\n",
       "\n",
       "Residual standard error: 70.14 on 745 degrees of freedom\n",
       "Multiple R-squared:  0.1526,\tAdjusted R-squared:  0.1503 \n",
       "F-statistic: 67.07 on 2 and 745 DF,  p-value: < 2.2e-16\n"
      ]
     },
     "execution_count": 39,
     "metadata": {},
     "output_type": "execute_result"
    }
   ],
   "source": [
    "filtered <- lookup\n",
    "filtered <- filtered[complete.cases(filtered),]\n",
    "filtered <- lookup[lookup$b25003001 > 0 & lookup$listings != \"NA\",]\n",
    "filtered$listings_norm = ((filtered$listings-min(filtered$listings))) / (max(filtered$listings)/ min(filtered$listings))\n",
    "fit <- lm(listings ~ vacancy_ra + renter_sha, data=filtered)\n",
    "summary(fit) # show results"
   ]
  },
  {
   "cell_type": "code",
   "execution_count": 20,
   "metadata": {
    "collapsed": false
   },
   "outputs": [],
   "source": [
    "listings = dbGetQuery(con,\"select ask,bedrooms,title from public.listings\")"
   ]
  },
  {
   "cell_type": "code",
   "execution_count": 24,
   "metadata": {
    "collapsed": false,
    "scrolled": false
   },
   "outputs": [
    {
     "data": {
      "text/html": [
       "18403"
      ],
      "text/latex": [
       "18403"
      ],
      "text/markdown": [
       "18403"
      ],
      "text/plain": [
       "[1] 18403"
      ]
     },
     "execution_count": 24,
     "metadata": {},
     "output_type": "execute_result"
    }
   ],
   "source": [
    "listings$bedroom_norm = listings$bedrooms\n",
    "listings$bedroom_norm[listings$bedroom_norm==0] <- 1\n",
    "listings$per_bedroom = listings$ask / listings$bedroom_norm"
   ]
  },
  {
   "cell_type": "code",
   "execution_count": 23,
   "metadata": {
    "collapsed": false
   },
   "outputs": [],
   "source": [
    "# plot(listings$bedrooms, listings$per_bedroom)\n",
    "# summary(listings[listings$bedrooms == 1,]$per_bedroom, na.rm = TRUE)\n",
    "# sd(listings[listings$bedrooms == 1,]$per_bedroom, na.rm = TRUE)"
   ]
  },
  {
   "cell_type": "code",
   "execution_count": 60,
   "metadata": {
    "collapsed": false
   },
   "outputs": [
    {
     "data": {
      "text/html": [
       "27032"
      ],
      "text/latex": [
       "27032"
      ],
      "text/markdown": [
       "27032"
      ],
      "text/plain": [
       "[1] 27032"
      ]
     },
     "execution_count": 60,
     "metadata": {},
     "output_type": "execute_result"
    }
   ],
   "source": [
    "# listings[with(listings, order(title)),]\n",
    "nrow(listings[!duplicated(listings$title),])"
   ]
  }
 ],
 "metadata": {
  "kernelspec": {
   "display_name": "R",
   "language": "R",
   "name": "ir"
  },
  "language_info": {
   "codemirror_mode": "r",
   "file_extension": ".r",
   "mimetype": "text/x-r-source",
   "name": "R",
   "pygments_lexer": "r",
   "version": "3.2.2"
  }
 },
 "nbformat": 4,
 "nbformat_minor": 0
}
